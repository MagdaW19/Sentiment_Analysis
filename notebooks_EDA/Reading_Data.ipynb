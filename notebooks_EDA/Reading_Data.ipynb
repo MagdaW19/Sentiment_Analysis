{
 "metadata": {
  "language_info": {
   "codemirror_mode": {
    "name": "ipython",
    "version": 3
   },
   "file_extension": ".py",
   "mimetype": "text/x-python",
   "name": "python",
   "nbconvert_exporter": "python",
   "pygments_lexer": "ipython3",
   "version": "3.7.0"
  },
  "orig_nbformat": 2,
  "kernelspec": {
   "name": "python370jvsc74a57bd09fb4fec4d3bbc9fd7b913ec85ba847367f014c1a26f9b64a3d98ae9a0931aa80",
   "display_name": "Python 3.7.0 64-bit ('sent_analysis': conda)"
  }
 },
 "nbformat": 4,
 "nbformat_minor": 2,
 "cells": [
  {
   "source": [
    "# Reading Data\n",
    "### Dataset: Amazon Review 2018\n",
    "<br>\n",
    "Source: https://nijianmo.github.io/amazon/index.html <br><br>\n",
    "Description: <br>\n",
    "This Dataset is an updated version of the Amazon review dataset released in 2014. As in the previous version, <br>\n",
    "this dataset includes reviews (ratings, text, helpfulness votes), product metadata (descriptions, category <br>\n",
    "information, price, brand, and image features), and links (also viewed/also bought graphs). <br>\n",
    "<br>\n",
    "\n",
    "### Data:\n",
    "Data used in this project includes reviews for category Electronics. These data have been reduced to extract the 5-core,<br>\n",
    "such that each of the remaining users and items have 5 reviews each.<br>\n",
    "\n",
    "\n",
    "\n"
   ],
   "cell_type": "markdown",
   "metadata": {}
  },
  {
   "source": [
    "## Files:\n",
    "\n",
    "### Electronics_5.json.gz\n",
    "Includes reviews and ratings. Columns are following:\n",
    "* reviewerID - ID of the reviewer, e.g. A2SUAM1J3GNN3B\n",
    "* asin - ID of the product, e.g. 0000013714\n",
    "* reviewerName - name of the reviewer\n",
    "* vote - helpful votes of the review\n",
    "* style - a disctionary of the product metadata, e.g., \"Format\" is \"Hardcover\"\n",
    "* reviewText - text of the review\n",
    "* overall - rating of the product\n",
    "* summary - summary of the review\n",
    "* unixReviewTime - time of the review (unix time)\n",
    "* reviewTime - time of the review (raw)\n",
    "* image - images that users post after they have received the product\n"
   ],
   "cell_type": "markdown",
   "metadata": {}
  },
  {
   "source": [
    "## Imports"
   ],
   "cell_type": "markdown",
   "metadata": {}
  },
  {
   "cell_type": "code",
   "execution_count": 1,
   "metadata": {},
   "outputs": [],
   "source": [
    "# basic data science packages\n",
    "import numpy as np\n",
    "import pandas as pd \n",
    "import matplotlib.pyplot as plt \n",
    "import seaborn as sns \n",
    "sns.set()"
   ]
  },
  {
   "cell_type": "code",
   "execution_count": 2,
   "metadata": {},
   "outputs": [],
   "source": [
    "# json loading\n",
    "import json"
   ]
  },
  {
   "cell_type": "code",
   "execution_count": 3,
   "metadata": {},
   "outputs": [],
   "source": [
    "# import custom function for reading data\n",
    "from scripts.utils_data import read_in_chunks"
   ]
  },
  {
   "source": [
    "## Constants"
   ],
   "cell_type": "markdown",
   "metadata": {}
  },
  {
   "cell_type": "code",
   "execution_count": 12,
   "metadata": {},
   "outputs": [],
   "source": [
    "reviews_path = '../data/raw/Electronics_5.json'\n",
    "new_path = '../data/processed/electronics.csv'\n",
    "new_path_simple = '../data/processed/electronics_simple.csv'"
   ]
  },
  {
   "cell_type": "code",
   "execution_count": 5,
   "metadata": {},
   "outputs": [],
   "source": [
    "columns = [\"reviewerID\", \"asin\", \"reviewerName\",\"vote\",\"style\",\"reviewText\",\"verified\",\n",
    "           \"overall\",\"summary\",\"unixReviewTime\",\"reviewTime\", \"image\"]\n",
    "\n",
    "new_columns = [\"overall\",\"vote\",\"reviewText\", \"reviewTime\"]"
   ]
  },
  {
   "cell_type": "code",
   "execution_count": 9,
   "metadata": {},
   "outputs": [],
   "source": [
    "DTYPES = {\"reviewerID\": object,\n",
    "          \"asin\": object,\n",
    "          \"reviewerName\": object,\n",
    "          \"vote\": object,\n",
    "          \"style\": object,\n",
    "          \"reviewText\": object,\n",
    "          \"verified\":bool,\n",
    "          \"overall\": np.float64,\n",
    "          \"summary\": object,\n",
    "          \"unixReviewTime\": np.int64,\n",
    "          \"reviewTime\": object,\n",
    "          \"image\": object}\n",
    "\n",
    "NROWS = 10_000"
   ]
  },
  {
   "source": [
    "## Converting JSON to CSV"
   ],
   "cell_type": "markdown",
   "metadata": {}
  },
  {
   "cell_type": "code",
   "execution_count": 7,
   "metadata": {},
   "outputs": [
    {
     "output_type": "stream",
     "name": "stdout",
     "text": [
      "499999 lines processed\n",
      "999999 lines processed\n",
      "1499999 lines processed\n",
      "1999999 lines processed\n",
      "2499999 lines processed\n",
      "2999999 lines processed\n",
      "3499999 lines processed\n",
      "3999999 lines processed\n",
      "4499999 lines processed\n",
      "4999999 lines processed\n",
      "5499999 lines processed\n",
      "5999999 lines processed\n",
      "6499999 lines processed\n",
      "Saved content of ../data/raw/Electronics_5.json to ../data/processed/electronics.csv succesfully\n",
      "Processed 6739589 lines in 0:05:10.618888\n"
     ]
    }
   ],
   "source": [
    "read_in_chunks(reviews_path, new_path, 500_000, columns)"
   ]
  },
  {
   "source": [
    "## Checking csv file"
   ],
   "cell_type": "markdown",
   "metadata": {}
  },
  {
   "cell_type": "code",
   "execution_count": 15,
   "metadata": {},
   "outputs": [],
   "source": [
    "df = pd.read_csv(new_path, parse_dates=[9], dtype=DTYPES, low_memory=True)"
   ]
  },
  {
   "cell_type": "code",
   "execution_count": 16,
   "metadata": {},
   "outputs": [
    {
     "output_type": "stream",
     "name": "stdout",
     "text": [
      "<class 'pandas.core.frame.DataFrame'>\nRangeIndex: 6739590 entries, 0 to 6739589\nData columns (total 12 columns):\n #   Column          Dtype  \n---  ------          -----  \n 0   reviewerID      object \n 1   asin            object \n 2   reviewerName    object \n 3   vote            object \n 4   style           object \n 5   reviewText      object \n 6   verified        bool   \n 7   overall         float64\n 8   summary         object \n 9   unixReviewTime  object \n 10  reviewTime      object \n 11  image           object \ndtypes: bool(1), float64(1), object(10)\nmemory usage: 572.0+ MB\n"
     ]
    }
   ],
   "source": [
    "df.info()"
   ]
  },
  {
   "source": [
    "## Create Simplified Version with Review, Rating and Time"
   ],
   "cell_type": "markdown",
   "metadata": {}
  },
  {
   "cell_type": "code",
   "execution_count": 17,
   "metadata": {},
   "outputs": [],
   "source": [
    "df['vote'] = df.vote.str.replace(',','').fillna(0).astype('int64')\n",
    "df['overall'] = df.overall.fillna(0).astype('int16')"
   ]
  },
  {
   "cell_type": "code",
   "execution_count": 18,
   "metadata": {},
   "outputs": [],
   "source": [
    "df[new_columns].to_csv(new_path_simple, index=False)"
   ]
  },
  {
   "cell_type": "code",
   "execution_count": null,
   "metadata": {},
   "outputs": [],
   "source": []
  }
 ]
}