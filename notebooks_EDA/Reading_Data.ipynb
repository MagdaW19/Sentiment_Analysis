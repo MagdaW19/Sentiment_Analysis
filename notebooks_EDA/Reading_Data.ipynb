{
 "metadata": {
  "language_info": {
   "codemirror_mode": {
    "name": "ipython",
    "version": 3
   },
   "file_extension": ".py",
   "mimetype": "text/x-python",
   "name": "python",
   "nbconvert_exporter": "python",
   "pygments_lexer": "ipython3",
   "version": "3.7.0"
  },
  "orig_nbformat": 2,
  "kernelspec": {
   "name": "python370jvsc74a57bd09fb4fec4d3bbc9fd7b913ec85ba847367f014c1a26f9b64a3d98ae9a0931aa80",
   "display_name": "Python 3.7.0 64-bit ('sent_analysis': conda)"
  }
 },
 "nbformat": 4,
 "nbformat_minor": 2,
 "cells": [
  {
   "source": [
    "# Reading Data\n",
    "### Dataset: Amazon Review 2018\n",
    "<br>\n",
    "Source: https://nijianmo.github.io/amazon/index.html <br><br>\n",
    "Description: <br>\n",
    "This Dataset is an updated version of the Amazon review dataset released in 2014. As in the previous version, <br>\n",
    "this dataset includes reviews (ratings, text, helpfulness votes), product metadata (descriptions, category <br>\n",
    "information, price, brand, and image features), and links (also viewed/also bought graphs). <br>\n",
    "<br>\n",
    "\n",
    "### Data:\n",
    "Data used in this project includes reviews for category Electronics. These data have been reduced to extract the 5-core,<br>\n",
    "such that each of the remaining users and items have 5 reviews each.<br>\n",
    "\n",
    "\n",
    "\n"
   ],
   "cell_type": "markdown",
   "metadata": {}
  },
  {
   "source": [
    "## Files:\n",
    "\n",
    "### Electronics_5.json.gz\n",
    "Includes reviews and ratings. Columns are following:\n",
    "* reviewerID - ID of the reviewer, e.g. A2SUAM1J3GNN3B\n",
    "* asin - ID of the product, e.g. 0000013714\n",
    "* reviewerName - name of the reviewer\n",
    "* vote - helpful votes of the review\n",
    "* style - a disctionary of the product metadata, e.g., \"Format\" is \"Hardcover\"\n",
    "* reviewText - text of the review\n",
    "* overall - rating of the product\n",
    "* summary - summary of the review\n",
    "* unixReviewTime - time of the review (unix time)\n",
    "* reviewTime - time of the review (raw)\n",
    "* image - images that users post after they have received the product\n",
    "\n",
    "### Electronics.csv\n",
    "\n",
    "This file includes ratings only. Columns are:\n",
    " * item \n",
    " * user \n",
    " * rating \n",
    " * timestamp"
   ],
   "cell_type": "markdown",
   "metadata": {}
  },
  {
   "source": [
    "## Imports"
   ],
   "cell_type": "markdown",
   "metadata": {}
  },
  {
   "cell_type": "code",
   "execution_count": 2,
   "metadata": {},
   "outputs": [],
   "source": [
    "# basic data science packages\n",
    "import numpy as np\n",
    "import pandas as pd \n",
    "import matplotlib.pyplot as plt \n",
    "import seaborn as sns \n",
    "sns.set()"
   ]
  },
  {
   "cell_type": "code",
   "execution_count": 3,
   "metadata": {},
   "outputs": [],
   "source": [
    "# json loading\n",
    "import json"
   ]
  },
  {
   "source": [
    "## Constants"
   ],
   "cell_type": "markdown",
   "metadata": {}
  },
  {
   "cell_type": "code",
   "execution_count": 4,
   "metadata": {},
   "outputs": [],
   "source": [
    "reviews_path = '../data/raw/Electronics_5.json'\n",
    "clean_path = '../data/clean/electronics.csv'"
   ]
  },
  {
   "cell_type": "code",
   "execution_count": 16,
   "metadata": {},
   "outputs": [],
   "source": [
    "columns = [\"reviewerID\", \"asin\", \"reviewerName\",\"vote\",\"style\",\"reviewText\",\n",
    "           \"overall\",\"summary\",\"unixReviewTime\",\"reviewTime\", \"image\"]"
   ]
  },
  {
   "source": [
    "## Reading Data"
   ],
   "cell_type": "markdown",
   "metadata": {}
  },
  {
   "cell_type": "code",
   "execution_count": 5,
   "metadata": {},
   "outputs": [],
   "source": []
  },
  {
   "cell_type": "code",
   "execution_count": 6,
   "metadata": {},
   "outputs": [],
   "source": [
    "empty_row = {col:None for col in columns}"
   ]
  },
  {
   "cell_type": "code",
   "execution_count": 7,
   "metadata": {},
   "outputs": [],
   "source": [
    "# test few lines\n",
    "new_dict= {}\n",
    "with open(reviews_path) as f:\n",
    "    new_dict = json.loads(f.readline())"
   ]
  },
  {
   "cell_type": "code",
   "execution_count": 8,
   "metadata": {},
   "outputs": [
    {
     "output_type": "execute_result",
     "data": {
      "text/plain": [
       "{'overall': 5.0,\n",
       " 'vote': '67',\n",
       " 'verified': True,\n",
       " 'reviewTime': '09 18, 1999',\n",
       " 'reviewerID': 'AAP7PPBU72QFM',\n",
       " 'asin': '0151004714',\n",
       " 'style': {'Format:': ' Hardcover'},\n",
       " 'reviewerName': 'D. C. Carrad',\n",
       " 'reviewText': 'This is the best novel I have read in 2 or 3 years.  It is everything that fiction should be -- beautifully written, engaging, well-plotted and structured.  It has several layers of meanings -- historical, family,  philosophical and more -- and blends them all skillfully and interestingly.  It makes the American grad student/writers\\' workshop \"my parents were  mean to me and then my professors were mean to me\" trivia look  childish and silly by comparison, as they are.\\nAnyone who says this is an  adolescent girl\\'s coming of age story is trivializing it.  Ignore them.  Read this book if you love literature.\\nI was particularly impressed with  this young author\\'s grasp of the meaning and texture of the lost world of  French Algeria in the 1950\\'s and \\'60\\'s...particularly poignant when read in  1999 from another ruined and abandoned French colony, amid the decaying  buildings of Phnom Penh...\\nI hope the author will write many more books  and that her publishers will bring her first novel back into print -- I  want to read it.  Thank you, Ms. Messud, for writing such a wonderful work.',\n",
       " 'summary': 'A star is born',\n",
       " 'unixReviewTime': 937612800}"
      ]
     },
     "metadata": {},
     "execution_count": 8
    }
   ],
   "source": [
    "new_dict"
   ]
  },
  {
   "cell_type": "code",
   "execution_count": 9,
   "metadata": {},
   "outputs": [
    {
     "output_type": "execute_result",
     "data": {
      "text/plain": [
       "{'reviewerID': 'AAP7PPBU72QFM',\n",
       " 'asin': '0151004714',\n",
       " 'reviewerName': 'D. C. Carrad',\n",
       " 'vote': '67',\n",
       " 'style': {'Format:': ' Hardcover'},\n",
       " 'reviewText': 'This is the best novel I have read in 2 or 3 years.  It is everything that fiction should be -- beautifully written, engaging, well-plotted and structured.  It has several layers of meanings -- historical, family,  philosophical and more -- and blends them all skillfully and interestingly.  It makes the American grad student/writers\\' workshop \"my parents were  mean to me and then my professors were mean to me\" trivia look  childish and silly by comparison, as they are.\\nAnyone who says this is an  adolescent girl\\'s coming of age story is trivializing it.  Ignore them.  Read this book if you love literature.\\nI was particularly impressed with  this young author\\'s grasp of the meaning and texture of the lost world of  French Algeria in the 1950\\'s and \\'60\\'s...particularly poignant when read in  1999 from another ruined and abandoned French colony, amid the decaying  buildings of Phnom Penh...\\nI hope the author will write many more books  and that her publishers will bring her first novel back into print -- I  want to read it.  Thank you, Ms. Messud, for writing such a wonderful work.',\n",
       " 'overall': 5.0,\n",
       " 'summary': 'A star is born',\n",
       " 'unixReviewTime': 937612800,\n",
       " 'reviewTime': '09 18, 1999',\n",
       " 'image': None,\n",
       " 'verified': True}"
      ]
     },
     "metadata": {},
     "execution_count": 9
    }
   ],
   "source": [
    "z = {**empty_row, **new_dict}\n",
    "z"
   ]
  },
  {
   "cell_type": "code",
   "execution_count": 15,
   "metadata": {},
   "outputs": [
    {
     "output_type": "stream",
     "name": "stdout",
     "text": [
      "0 {\"overall\": 5.0, \"vote\": \"67\", \"verified\": true, \"reviewTime\": \"09 18, 1999\", \"reviewerID\": \"AAP7PPBU72QFM\", \"asin\": \"0151004714\", \"style\": {\"Format:\": \" Hardcover\"}, \"reviewerName\": \"D. C. Carrad\", \"reviewText\": \"This is the best novel I have read in 2 or 3 years.  It is everything that fiction should be -- beautifully written, engaging, well-plotted and structured.  It has several layers of meanings -- historical, family,  philosophical and more -- and blends them all skillfully and interestingly.  It makes the American grad student/writers' workshop \\\"my parents were  mean to me and then my professors were mean to me\\\" trivia look  childish and silly by comparison, as they are.\\nAnyone who says this is an  adolescent girl's coming of age story is trivializing it.  Ignore them.  Read this book if you love literature.\\nI was particularly impressed with  this young author's grasp of the meaning and texture of the lost world of  French Algeria in the 1950's and '60's...particularly poignant when read in  1999 from another ruined and abandoned French colony, amid the decaying  buildings of Phnom Penh...\\nI hope the author will write many more books  and that her publishers will bring her first novel back into print -- I  want to read it.  Thank you, Ms. Messud, for writing such a wonderful work.\", \"summary\": \"A star is born\", \"unixReviewTime\": 937612800}\n\n1 {\"overall\": 3.0, \"vote\": \"5\", \"verified\": true, \"reviewTime\": \"10 23, 2013\", \"reviewerID\": \"A2E168DTVGE6SV\", \"asin\": \"0151004714\", \"style\": {\"Format:\": \" Kindle Edition\"}, \"reviewerName\": \"Evy\", \"reviewText\": \"Pages and pages of introspection, in the style of writers like Henry James.  I like this kind of  novels and the writer occasionally delights me with her descriptions and observations.  But it's way too repetitious for me and, I think, some parts could have been cut out while still preserving, and probably more tightly crystallizing, the themes and \\\"truths\\\" within the story.\\n\\nIt's a story I could relate to but I wish it hadn't been too tedious to read.\", \"summary\": \"A stream of consciousness novel\", \"unixReviewTime\": 1382486400}\n\n2 {\"overall\": 5.0, \"vote\": \"4\", \"verified\": false, \"reviewTime\": \"09 2, 2008\", \"reviewerID\": \"A1ER5AYS3FQ9O3\", \"asin\": \"0151004714\", \"style\": {\"Format:\": \" Paperback\"}, \"reviewerName\": \"Kcorn\", \"reviewText\": \"This is the kind of novel to read when you have time to lose yourself in a book for days, possibly weeks. I had to go back and reread it as soon as I finished it because it is so rich in historical and psychological  details, particularly themes centering on painful family dynamics and history.\\n\\nPotential readers of this novel by Claire Messud should know it isn't exactly a sunny, bouncy work. If you are looking for that you'll want to look elsewhere. It also moves between countries, including sections based in France, the U.S. and Algeria.\\n\\nThe focus of the novel is the LaBasse family and the story is told from the viewpoint of Sagesse, a woman who conveys the weight of a turbulent family history. Starting with Sagesse's grandfather, a man who owns the Hotel Bellevue in France,the family dynamics begin to play themselves out, connecting to larger themes of France and Algeria's history as well, with stunning consequences.\\n\\nSagesse's parents, Alex and Carol, reveal plenty about the kind of problems that can arise when there are cross-cultural challenges to face in a marriage. Carol, coming from America, marries Alex, but is unable to see the potential sacrifices and problems she'll face as she moves overseas to live with her husband...or the impact the marriage will have on her daughter and the rest of the family, including a handicapped son.\\n\\n It is a bit hard to categorize this book because it covers so many areas. It is part mystery because Sagesse is trying to separate truth from myth when figuring out her family's history. It is part suspense because of Sagesse's short love affair and a moment of violence (and I don't want to give the details of that moment or I'll spoil it for you). It is also a historical novel, rich with information about events in Algeria and France and the United States.\\n\\nFor me, also, this one centers on themes of personal identity and displacement,primarily for Sagesse, a woman trying to figure out where she belongs in the world and how to make peace with her difficult family as well as coming to grips with history's impact on her family.\", \"summary\": \"I'm a huge fan of the author and this one did not disappoint\", \"unixReviewTime\": 1220313600}\n\n3 {\"overall\": 5.0, \"vote\": \"13\", \"verified\": false, \"reviewTime\": \"09 4, 2000\", \"reviewerID\": \"A1T17LMQABMBN5\", \"asin\": \"0151004714\", \"style\": {\"Format:\": \" Hardcover\"}, \"reviewerName\": \"Caf Girl Writes\", \"reviewText\": \"What gorgeous language! What an incredible writer! The Last Life is one of  the best written novels I have ever read. This incredible novel contains  various elements of fiction: historical, philosophical, and just the right  touch of magical realism.\\nThe story is about a French-Algerian family  and the constant moving to different parts of the world -- the South of  France, the East Coast of the U.S. and Algeria -- has affected each of  their lives. It seems as though each family member has found his or her  identity in one of the many places they have been. As a result, they never  feel like they have found a home. The thing that struck me most when  reading this book was how the author described life in the lost world of  French Algeria in the 1950's. The historical part of the novel is  incredibly accurate. Let me tell you that I have learned a lot of important  parts of history in this book. I also love the fact that the story is told  through the eyes of fourteen-year-old Lagesse, seen through the eyes of  innocence indeed!  The Last Life is -- without a  stretch of doubt -- the best historical fiction novel I have ever read.  This novel should not be overlooked. Run along and get it!\", \"summary\": \"The most beautiful book I have ever read!\", \"unixReviewTime\": 968025600}\n\n4 {\"overall\": 3.0, \"vote\": \"8\", \"verified\": true, \"reviewTime\": \"02 4, 2000\", \"reviewerID\": \"A3QHJ0FXK33OBE\", \"asin\": \"0151004714\", \"style\": {\"Format:\": \" Hardcover\"}, \"reviewerName\": \"W. Shane Schmidt\", \"reviewText\": \"I was taken in by reviews that compared this book with The Leopard or promised a bildungsroman set in a family that is isolated and on the move.  Well...I didn't feel any parallel with The Leopard and the author overstuffs her story with so many events that isolation is lost in the opportunity for  so many subplots.  And who's moving - in any sense - in this novel?  Where's the \\\"bildung?\\\"  The denouement?  The dsillusionner?  I must have  skimmed the wrong paragraph.\\nI do agree that parts of the novel are very  engaging.  They are.  And, like some other readers, I did enjoy the events  in Algeria.  This is the strongest part of the novel, perhaps because it is  not so deeply stuck in the protagonist's life that had the unfortunate  knack of boring me in the first-person!  (Yeah, that's what I mean.)  Overall, the novel is just a bit overdone.  I prefer a bildungsroman - if  that's what this should be - to show me a growth, not tell me all about the  all-too-interesting things that happened along the way.\\nIf you're the  kind of person who can sit for hours and listen to a friend tell you  endless stories about herself that you can't help but suspect are just a  tad trumped up, then you might really dig into this novel.  Otherwise you  might have an experience more like mine which was one of detached interest.  For my part, I was relieved that I could close the book whenever I wanted  to quiet my jabbery friend.\", \"summary\": \"A dissenting view--In part.\", \"unixReviewTime\": 949622400}\n\n5 {\"overall\": 4.0, \"verified\": true, \"reviewTime\": \"06 5, 2013\", \"reviewerID\": \"A3IYSOTP3HA77N\", \"asin\": \"0380709473\", \"style\": {\"Format:\": \" Kindle Edition\"}, \"reviewerName\": \"B. Marks\", \"reviewText\": \"I read this probably 50 years ago in my youth and I just re-read it for the first time.  It was a fun read but not as good as my memory of it.\\n\\nBarry\", \"summary\": \"Above average mystery\", \"unixReviewTime\": 1370390400}\n\n"
     ]
    }
   ],
   "source": [
    "with open(reviews_path) as f:\n",
    "        for i, line in enumerate(f):\n",
    "            if i > 5:\n",
    "                break\n",
    "            print(i,line)"
   ]
  },
  {
   "cell_type": "code",
   "execution_count": 12,
   "metadata": {},
   "outputs": [],
   "source": [
    "def simplecount(filename):\n",
    "    lines = 0\n",
    "    with open(filename) as f:\n",
    "        for line in f:\n",
    "            lines += 1\n",
    "    return lines"
   ]
  },
  {
   "cell_type": "code",
   "execution_count": 13,
   "metadata": {},
   "outputs": [
    {
     "output_type": "stream",
     "name": "stdout",
     "text": [
      "6739590\nWall time: 20.8 s\n"
     ]
    }
   ],
   "source": [
    "%%time\n",
    "count = simplecount(reviews_path)\n",
    "print(count)"
   ]
  },
  {
   "cell_type": "code",
   "execution_count": 4,
   "metadata": {},
   "outputs": [
    {
     "output_type": "stream",
     "name": "stdout",
     "text": [
      "0\n",
      "1\n",
      "2\n",
      "3\n",
      "4\n",
      "5\n",
      "6\n",
      "7\n",
      "8\n",
      "9\n",
      "10\n",
      "11\n",
      "12\n",
      "13\n"
     ]
    }
   ],
   "source": [
    "# read from file line by line\n",
    "with open(reviews_path) as f:\n",
    "    for i in range(13):\n",
    "        reviews_list=[]\n",
    "        for j in range(500_000):\n",
    "            row = json.loads(f.readline())\n",
    "            reviews_list.append(row)\n",
    "        pd.DataFrame(reviews_list).to_csv(clean_path, mode='a', index=False, header=(i==0))\n",
    "        print(i, end=', ')\n",
    "    reviews_list=[]\n",
    "    line = f.readline()\n",
    "    while line:\n",
    "        row = json.loads(line)\n",
    "        reviews_list.append(row)\n",
    "        line = f.readline()\n",
    "    pd.DataFrame(reviews_list).to_csv(clean_path, mode='a', index=False, header=False)\n",
    "    print(13)"
   ]
  }
 ]
}