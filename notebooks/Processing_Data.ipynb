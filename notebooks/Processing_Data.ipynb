{
 "metadata": {
  "language_info": {
   "codemirror_mode": {
    "name": "ipython",
    "version": 3
   },
   "file_extension": ".py",
   "mimetype": "text/x-python",
   "name": "python",
   "nbconvert_exporter": "python",
   "pygments_lexer": "ipython3",
   "version": "3.9.2"
  },
  "orig_nbformat": 2,
  "kernelspec": {
   "name": "python392jvsc74a57bd0c0f7f1796be8cfcd558c8afe3c9c767ffb7fcd3a2a2c6cc5ff7439286e873c55",
   "display_name": "Python 3.9.2 64-bit ('cleaning': conda)"
  }
 },
 "nbformat": 4,
 "nbformat_minor": 2,
 "cells": [
  {
   "source": [
    "# Preprocessing data"
   ],
   "cell_type": "markdown",
   "metadata": {}
  },
  {
   "source": [
    "## Imports"
   ],
   "cell_type": "markdown",
   "metadata": {}
  },
  {
   "cell_type": "code",
   "execution_count": 1,
   "metadata": {},
   "outputs": [],
   "source": [
    "# imports \n",
    "import numpy as np \n",
    "import pandas as pd \n",
    "import matplotlib.pyplot as plt \n",
    "import seaborn as sns\n",
    "sns.set()"
   ]
  },
  {
   "source": [
    "## Paths"
   ],
   "cell_type": "markdown",
   "metadata": {}
  },
  {
   "cell_type": "code",
   "execution_count": 2,
   "metadata": {},
   "outputs": [],
   "source": [
    "path = '..\\data\\clean\\electronics.csv'\n",
    "small_path = '..\\data\\clean\\electronics_small.csv'"
   ]
  },
  {
   "source": [
    "## Constants"
   ],
   "cell_type": "markdown",
   "metadata": {}
  },
  {
   "cell_type": "code",
   "execution_count": 3,
   "metadata": {},
   "outputs": [],
   "source": [
    "columns = ['overall','vote','verified','reviewTime','reviewText','summary']\n",
    "\n",
    "fill_values = {\n",
    "    'overall':0,\n",
    "    'vote':0,\n",
    "    'verified':False,\n",
    "}\n",
    "\n",
    "old_dtypes = {\n",
    "    'overall':np.object,\n",
    "    'vote':np.object,\n",
    "    'verified':np.object,\n",
    "    'reviewTime':np.object,\n",
    "    'reviewText':np.object,\n",
    "    'summary':np.object,\n",
    "    'reviewerID':np.object,\n",
    "    'asin':np.object,\n",
    "    'style':np.object,\n",
    "    'reviewerName':np.object,\n",
    "    'unixReviewTime':np.object,\n",
    "    'image':np.object,\n",
    "}\n",
    "\n",
    "\n",
    "\n",
    "col_dtypes = {\n",
    "    'overall':np.float64,\n",
    "    'vote':np.float64,\n",
    "    'verified':np.bool,\n",
    "    'reviewTime':np.datetime64,\n",
    "    'reviewText':np.object,\n",
    "    'summary':np.object\n",
    "}\n",
    "\n",
    "value_dtypes = {\n",
    "    'overall':np.int16,\n",
    "    'vote':np.int64,\n",
    "}"
   ]
  },
  {
   "source": [
    "## Cleaning Data Format"
   ],
   "cell_type": "markdown",
   "metadata": {}
  },
  {
   "cell_type": "code",
   "execution_count": 4,
   "metadata": {},
   "outputs": [],
   "source": [
    "df = pd.read_csv(path,\n",
    "                 chunksize=1_000_000,\n",
    "                 parse_dates=[3],\n",
    "                 thousands=',',\n",
    "                 dtype=old_dtypes)"
   ]
  },
  {
   "cell_type": "code",
   "execution_count": 5,
   "metadata": {},
   "outputs": [
    {
     "output_type": "stream",
     "name": "stdout",
     "text": [
      "1 2 3 4 5 6 7 \n",
      "Processed 7 chunks\n"
     ]
    }
   ],
   "source": [
    "i=0\n",
    "\n",
    "for chunk in df:\n",
    "    chunk = chunk[(chunk.overall.str.len()<5) & (chunk.overall != 'True') & (chunk.vote != 'True') & (chunk.vote!='False')]\n",
    "    chunk = chunk[columns]\n",
    "    chunk.vote = chunk.vote.str.replace(',','')\n",
    "    new_df = chunk.fillna(fill_values).astype(col_dtypes).astype(value_dtypes)\n",
    "    new_df.to_csv(small_path,index=False, mode='a', header=(i==0))\n",
    "    i += 1\n",
    "    print(i, end=' ')\n",
    "print(f'\\nProcessed {i} chunks')"
   ]
  },
  {
   "cell_type": "code",
   "execution_count": null,
   "metadata": {},
   "outputs": [],
   "source": []
  }
 ]
}