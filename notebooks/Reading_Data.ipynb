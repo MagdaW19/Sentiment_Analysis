{
 "metadata": {
  "language_info": {
   "codemirror_mode": {
    "name": "ipython",
    "version": 3
   },
   "file_extension": ".py",
   "mimetype": "text/x-python",
   "name": "python",
   "nbconvert_exporter": "python",
   "pygments_lexer": "ipython3",
   "version": "3.9.2"
  },
  "orig_nbformat": 2,
  "kernelspec": {
   "name": "python392jvsc74a57bd0c0f7f1796be8cfcd558c8afe3c9c767ffb7fcd3a2a2c6cc5ff7439286e873c55",
   "display_name": "Python 3.9.2 64-bit ('cleaning': conda)"
  }
 },
 "nbformat": 4,
 "nbformat_minor": 2,
 "cells": [
  {
   "source": [
    "# Reading Data\n",
    "### Dataset: Amazon Review 2018\n",
    "<br>\n",
    "Source: https://nijianmo.github.io/amazon/index.html <br><br>\n",
    "Description: <br>\n",
    "This Dataset is an updated version of the Amazon review dataset released in 2014. As in the previous version, <br>\n",
    "this dataset includes reviews (ratings, text, helpfulness votes), product metadata (descriptions, category <br>\n",
    "information, price, brand, and image features), and links (also viewed/also bought graphs). <br>\n",
    "<br>\n",
    "\n",
    "### Data:\n",
    "Data used in this project includes reviews for category Electronics. These data have been reduced to extract the 5-core,<br>\n",
    "such that each of the remaining users and items have 5 reviews each.<br>\n",
    "\n",
    "\n",
    "\n"
   ],
   "cell_type": "markdown",
   "metadata": {}
  },
  {
   "source": [
    "## Files:\n",
    "\n",
    "### Electronics_5.json.gz\n",
    "Includes reviews and ratings. Columns are following:\n",
    "* reviewerID - ID of the reviewer, e.g. A2SUAM1J3GNN3B\n",
    "* asin - ID of the product, e.g. 0000013714\n",
    "* reviewerName - name of the reviewer\n",
    "* vote - helpful votes of the review\n",
    "* style - a disctionary of the product metadata, e.g., \"Format\" is \"Hardcover\"\n",
    "* reviewText - text of the review\n",
    "* overall - rating of the product\n",
    "* summary - summary of the review\n",
    "* unixReviewTime - time of the review (unix time)\n",
    "* reviewTime - time of the review (raw)\n",
    "* image - images that users post after they have received the product\n",
    "\n",
    "### Electronics.csv\n",
    "\n",
    "This file includes ratings only. Columns are:\n",
    " * item \n",
    " * user \n",
    " * rating \n",
    " * timestamp"
   ],
   "cell_type": "markdown",
   "metadata": {}
  },
  {
   "source": [
    "## Imports"
   ],
   "cell_type": "markdown",
   "metadata": {}
  },
  {
   "cell_type": "code",
   "execution_count": 1,
   "metadata": {},
   "outputs": [],
   "source": [
    "# basic data science packages\n",
    "import numpy as np\n",
    "import pandas as pd \n",
    "import matplotlib.pyplot as plt \n",
    "import seaborn as sns \n",
    "sns.set()"
   ]
  },
  {
   "cell_type": "code",
   "execution_count": 2,
   "metadata": {},
   "outputs": [],
   "source": [
    "# json loading\n",
    "import json"
   ]
  },
  {
   "source": [
    "## Constants"
   ],
   "cell_type": "markdown",
   "metadata": {}
  },
  {
   "cell_type": "code",
   "execution_count": 3,
   "metadata": {},
   "outputs": [],
   "source": [
    "reviews_path = '../data/raw/Electronics_5.json'\n",
    "clean_path = '../data/clean/electronics.csv'"
   ]
  },
  {
   "source": [
    "## Reading Data"
   ],
   "cell_type": "markdown",
   "metadata": {}
  },
  {
   "cell_type": "code",
   "execution_count": 13,
   "metadata": {},
   "outputs": [],
   "source": [
    "# test few lines\n",
    "test_list = []\n",
    "\n",
    "with open(reviews_path) as f:\n",
    "    for i in range(20):\n",
    "        row = json.loads(f.readline())\n",
    "        test_list.append(row)\n",
    "\n",
    "test_df = pd.DataFrame(test_list)"
   ]
  },
  {
   "cell_type": "code",
   "execution_count": 4,
   "metadata": {},
   "outputs": [
    {
     "output_type": "stream",
     "name": "stdout",
     "text": [
      "0\n",
      "1\n",
      "2\n",
      "3\n",
      "4\n",
      "5\n",
      "6\n",
      "7\n",
      "8\n",
      "9\n",
      "10\n",
      "11\n",
      "12\n",
      "13\n"
     ]
    }
   ],
   "source": [
    "# read from file line by line\n",
    "with open(reviews_path) as f:\n",
    "    for i in range(13):\n",
    "        reviews_list=[]\n",
    "        for j in range(500_000):\n",
    "            row = json.loads(f.readline())\n",
    "            reviews_list.append(row)\n",
    "        pd.DataFrame(reviews_list).to_csv(clean_path, mode='a', index=False, header=(i==0))\n",
    "        print(i, end=', ')\n",
    "    reviews_list=[]\n",
    "    line = f.readline()\n",
    "    while line:\n",
    "        row = json.loads(line)\n",
    "        reviews_list.append(row)\n",
    "        line = f.readline()\n",
    "    pd.DataFrame(reviews_list).to_csv(clean_path, mode='a', index=False, header=False)\n",
    "    print(13)"
   ]
  }
 ]
}